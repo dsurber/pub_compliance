{
 "cells": [
  {
   "cell_type": "code",
   "execution_count": 1,
   "metadata": {
    "collapsed": true
   },
   "outputs": [],
   "source": [
    "# load start of pub_comp_src.py\n",
    "import time\n",
    "import logging\n",
    "from Bio import Entrez\n",
    "import numpy as np\n",
    "import pandas as pd\n",
    "from redcap import Project\n",
    "from datetime import datetime\n",
    "\n",
    "### Get access keys from the setup file - config.py\n",
    "import config\n",
    "import pub_comp_lib\n",
    "\n",
    "# ## !!** For DEV\n",
    "from importlib import reload\n",
    "# importlib.reload(name_of_module)\n",
    "# ## !!** For DEV\n",
    "\n",
    "start = time.time()\n",
    "\n",
    "logging.basicConfig(\n",
    "    filename=\"test.log\", \n",
    "    level=logging.DEBUG, \n",
    "    format=\"%(asctime)s:%(levelname)s:%(message)s\"\n",
    "    )"
   ]
  },
  {
   "cell_type": "code",
   "execution_count": 2,
   "metadata": {
    "collapsed": true
   },
   "outputs": [],
   "source": [
    "# run pubmed query section of pub_comp_src.py\n",
    "logger = logging.getLogger(__name__)\n",
    "#logger = logging.basicConfig(filename='app.log', filemode='w',\n",
    "#                             format='%(name)s - %(levelname)s - %(message)s')\n",
    "\n",
    "# loop over all config grants for cleanup\n",
    "for x in range(len(config.grant_list)):\n",
    "    # remove all whitespace, leading or trailing hyphenates - clean_grant.py\n",
    "    config.grant_list[x] = pub_comp_lib.clean(config.grant_list[x])\n",
    "\n",
    "### Create list for each grant with 34 grant variations - grant_vari.py\n",
    "variations = []\n",
    "for grant in config.grant_list:\n",
    "    variations.extend(pub_comp_lib.variety(grant))\n",
    "\n",
    "### Get pmids from pubmed for all grant variations\n",
    "# create variables for pubmed queries\n",
    "Entrez.email = \"Your.Name.Here@example.org\"\n",
    "Entrez.api_key = config.ncbi_api\n",
    "\n",
    "# create set for unique list of all pmids from querying pubmed with each\n",
    "# grant variation\n",
    "pmids = set()\n",
    "# query pubmed for pmids associated with each grant variation\n",
    "logger.info(\"Starting pubmed queries...\")\n",
    "pubmed_results = []\n",
    "\n",
    "for grant in variations:\n",
    "    attempt = 1\n",
    "    while attempt <= 3:\n",
    "        try:\n",
    "            handle = Entrez.esearch(db='pubmed', term=grant,\n",
    "                                    field='grant', retmax=5000,\n",
    "                                    usehistory='y', retmode='xml')\n",
    "            record = Entrez.read(handle)\n",
    "            handle.close()\n",
    "            if int(record['Count']) > 0:\n",
    "                pubmed_results.append(record)\n",
    "                pmids.update(record['IdList'])\n",
    "                logger.info('Entrez ESearch returns %i Ids for %s' % (int(record['Count']), str(grant)))\n",
    "            attempt = 4\n",
    "        except Exception as err:\n",
    "            logger.warning('Received error from server: %s' % str(err))\n",
    "            logger.warning('Attempt %i of 3 for grant %s.' % (attempt,\n",
    "                                                              str(grant)))\n",
    "            attempt += 1\n",
    "            time.sleep(2)\n",
    "    logger.debug('Grant %s queried.' % str(grant))\n",
    "\n",
    "logger.info('All grant queries complete.')\n",
    "\n",
    "### Update pmid set if a REDCap project is being used to track publications\n",
    "if config.rc_token is not None and config.rc_uri is not None:\n",
    "    old_pmids = []\n",
    "    # get the full pmid list from the REDCap project\n",
    "    project = Project(config.rc_uri, config.rc_token)\n",
    "    rc_pmids = project.export_records(fields=['pmid'], format='json')\n",
    "    for rc_pmid in rc_pmids:\n",
    "        old_pmids.append(rc_pmid['pmid'])\n",
    "    new_pmids = list(pmids.difference(old_pmids))   # newly discovered pmids\n",
    "    pmids.update(old_pmids)\n",
    "    # date of first discovery\n",
    "    if len(new_pmids) > 0:\n",
    "        first_disc = [datetime.today().strftime(\"%Y-%m-%d\")]*len(new_pmids)\n",
    "        # create data frame of new_pmids with date of first dicovery and\n",
    "        # import into REDCap project\n",
    "        # create data frame using lists and import into redcap\n",
    "        data = pd.DataFrame(np.column_stack([new_pmids, first_disc]),\n",
    "                            columns=['pmid', 'first_discovered'])\n",
    "        response = project.import_records(data)\n",
    "\n",
    "### Get table of publication details from pubmed for pmids\n",
    "# make dataframe of publications\n",
    "pubs_frame = pub_comp_lib.summary(pmids, config.ncbi_api, variations)\n",
    "# add compliant pmc status for publications with a pmcid\n",
    "pubs_frame['pmc_status'] = np.where(pubs_frame.pmcid == '', '', '1')\n",
    "# write table\n",
    "pubs_frame.to_csv('batch_pubmed_frame.csv', index=False)\n",
    "\n",
    "# change blank values to nan- makes column merging easier\n",
    "pubs_frame[pubs_frame == ''] = np.nan"
   ]
  },
  {
   "cell_type": "code",
   "execution_count": 3,
   "metadata": {
    "collapsed": true
   },
   "outputs": [],
   "source": [
    "# load pub_comp_lib.py libraries\n",
    "from Bio import Entrez\n",
    "from Bio.Entrez import efetch\n",
    "from Bio.Entrez import read\n",
    "import regex as re\n",
    "import datetime\n",
    "import time\n",
    "import logging\n",
    "import pandas as pd\n",
    "import time\n",
    "from bs4 import BeautifulSoup\n",
    "import unicodedata\n",
    "\n",
    "from selenium import webdriver\n",
    "from selenium.webdriver.chrome.options import Options\n",
    "from selenium.webdriver.support.ui import WebDriverWait\n",
    "from selenium.webdriver.support import expected_conditions as EC\n",
    "from selenium.webdriver.common.by import By"
   ]
  },
  {
   "cell_type": "code",
   "execution_count": 4,
   "metadata": {
    "collapsed": false
   },
   "outputs": [
    {
     "data": {
      "text/plain": [
       "2692"
      ]
     },
     "execution_count": 4,
     "metadata": {},
     "output_type": "execute_result"
    }
   ],
   "source": [
    "pacm_root = 'https://www.ncbi.nlm.nih.gov/pmc/utils/pacm/l/'\n",
    "driver = pub_comp_lib.pacm_login(config.era_login, config.era_pass)\n"
   ]
  },
  {
   "cell_type": "code",
   "execution_count": null,
   "metadata": {
    "collapsed": false
   },
   "outputs": [],
   "source": [
    "driver = pub_comp_lib.pacm_login(config.era_login, config.era_pass)\n",
    "time.sleep(3)\n"
   ]
  }
 ],
 "metadata": {
  "kernelspec": {
   "display_name": "Python 3",
   "language": "python",
   "name": "python3"
  },
  "language_info": {
   "codemirror_mode": {
    "name": "ipython",
    "version": 3
   },
   "file_extension": ".py",
   "mimetype": "text/x-python",
   "name": "python",
   "nbconvert_exporter": "python",
   "pygments_lexer": "ipython3",
   "version": "3.6.0"
  }
 },
 "nbformat": 4,
 "nbformat_minor": 2
}
